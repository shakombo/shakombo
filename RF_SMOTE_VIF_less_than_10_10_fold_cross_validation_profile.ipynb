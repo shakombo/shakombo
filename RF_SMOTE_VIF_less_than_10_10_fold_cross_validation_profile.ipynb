{
  "nbformat": 4,
  "nbformat_minor": 0,
  "metadata": {
    "colab": {
      "provenance": [],
      "authorship_tag": "ABX9TyOswb87U9/gC4ij382uq05f",
      "include_colab_link": true
    },
    "kernelspec": {
      "name": "python3",
      "display_name": "Python 3"
    },
    "language_info": {
      "name": "python"
    }
  },
  "cells": [
    {
      "cell_type": "markdown",
      "metadata": {
        "id": "view-in-github",
        "colab_type": "text"
      },
      "source": [
        "<a href=\"https://colab.research.google.com/github/shakombo/shakombo/blob/main/RF_SMOTE_VIF_less_than_10_10_fold_cross_validation_profile.ipynb\" target=\"_parent\"><img src=\"https://colab.research.google.com/assets/colab-badge.svg\" alt=\"Open In Colab\"/></a>"
      ]
    },
    {
      "cell_type": "code",
      "execution_count": null,
      "metadata": {
        "id": "5SYlNb7YGntd"
      },
      "outputs": [],
      "source": [
        "# Step 1: Import libraries\n",
        "import pandas as pd\n",
        "import numpy as np\n",
        "import matplotlib.pyplot as plt\n",
        "import seaborn as sns\n",
        "from sklearn.model_selection import train_test_split, GridSearchCV\n",
        "from sklearn.preprocessing import StandardScaler\n",
        "from sklearn.ensemble import RandomForestClassifier\n",
        "from sklearn.metrics import accuracy_score, precision_score, recall_score, f1_score, roc_auc_score, confusion_matrix, classification_report, roc_curve, auc\n",
        "from sklearn.feature_selection import VarianceThreshold\n",
        "from statsmodels.stats.outliers_influence import variance_inflation_factor\n",
        "from imblearn.over_sampling import SMOTE\n",
        "import matplotlib.pyplot as plt\n",
        "import joblib"
      ]
    },
    {
      "cell_type": "code",
      "source": [
        "# upload csv dataset\n",
        "from google.colab import files\n",
        "uploaded = files.upload()"
      ],
      "metadata": {
        "id": "CKogrN6KITEq"
      },
      "execution_count": null,
      "outputs": []
    },
    {
      "cell_type": "code",
      "source": [
        "# Step 2: Load the dataset\n",
        "data = pd.read_csv('updated_obstetric_data_cleaned.csv')"
      ],
      "metadata": {
        "id": "45bRvV5HG9i1"
      },
      "execution_count": null,
      "outputs": []
    },
    {
      "cell_type": "code",
      "source": [
        "# Step 3: Data Visualization\n",
        "data.hist(bins=20, figsize=(15, 10))\n",
        "plt.show()\n",
        "\n",
        "sns.boxplot(data=data, orient='h')\n",
        "plt.show()\n",
        "\n",
        "corr_matrix = data.corr()\n",
        "plt.figure(figsize=(10, 8))\n",
        "sns.heatmap(corr_matrix, annot=True, cmap='coolwarm')\n",
        "plt.show()"
      ],
      "metadata": {
        "id": "w70HY6-JHFXz"
      },
      "execution_count": null,
      "outputs": []
    },
    {
      "cell_type": "code",
      "source": [
        "# Step 4: Class Balance Check\n",
        "class_balance = data['Est Blood Loss'].value_counts()\n",
        "print(\"Class Balance:\")\n",
        "print(class_balance)"
      ],
      "metadata": {
        "id": "s3f2UPntHG7W"
      },
      "execution_count": null,
      "outputs": []
    },
    {
      "cell_type": "code",
      "source": [
        "# Step 5: Feature Selection\n",
        "variance_selector = VarianceThreshold(threshold=0.01)\n",
        "data_numeric = data.select_dtypes(include=[np.number])\n",
        "variance_selector.fit(data_numeric)\n",
        "low_variance_cols = data_numeric.columns[~variance_selector.get_support()]\n",
        "data = data.drop(columns=low_variance_cols)"
      ],
      "metadata": {
        "id": "SoCMLyUNHNqR"
      },
      "execution_count": null,
      "outputs": []
    },
    {
      "cell_type": "code",
      "source": [
        "# Calculate VIF for numeric variables\n",
        "def calculate_vif(data_frame):\n",
        "    vif_data = pd.DataFrame()\n",
        "    vif_data['Variable'] = data_frame.columns\n",
        "    vif_data['VIF'] = [variance_inflation_factor(data_frame.values, i) for i in range(data_frame.shape[1])]\n",
        "    return vif_data\n",
        "    vif_data = calculate_vif(data_numeric)\n",
        "print(\"VIF for numeric variables:\")\n",
        "print(vif_data)"
      ],
      "metadata": {
        "id": "Mlw50Rv4HTrH"
      },
      "execution_count": null,
      "outputs": []
    },
    {
      "cell_type": "code",
      "source": [
        "# Filter features with VIF less than 10\n",
        "selected_features = vif_data[vif_data['VIF'] < 10]['Variable']\n",
        "selected_features = selected_features[selected_features != 'Previous Vacuum Extraction']  # Exclude 'Previous Vacuum Extraction' if it's not present\n",
        "data = data[selected_features]"
      ],
      "metadata": {
        "id": "Ne4C1MHLHcgN"
      },
      "execution_count": null,
      "outputs": []
    },
    {
      "cell_type": "code",
      "source": [
        "# Step 6: Resampling for Class Imbalance using SMOTE\n",
        "X = data.drop('Est Blood Loss', axis=1)\n",
        "y = data['Est Blood Loss']"
      ],
      "metadata": {
        "id": "bdMZduYMHfAq"
      },
      "execution_count": null,
      "outputs": []
    },
    {
      "cell_type": "code",
      "source": [
        "smote = SMOTE(random_state=42)\n",
        "X_resampled, y_resampled = smote.fit_resample(X, y)"
      ],
      "metadata": {
        "id": "i4tPfzcTHjTv"
      },
      "execution_count": null,
      "outputs": []
    },
    {
      "cell_type": "code",
      "source": [
        "# Step 7: Encoding Categorical Variables (One-Hot Encoding)\n",
        "categorical_columns = ['HIV Status', 'Previous LSCS', 'Previous ENND', 'Previous Still Births',\n",
        "                       'Previous Abortion', 'Previous PPH', 'Previous Miscarriage',\n",
        "                        'Previous IUD', 'Previous Ectopic Pregnancy',\n",
        "                       'Previous Post Dates', 'Previous Twin Gestation', 'Previous Cord Prolapse',\n",
        "                       'Previous Fetal Macrosomia', 'Previous PIH', 'Previous APH']\n",
        "                       X_resampled = pd.get_dummies(X_resampled, columns=categorical_columns, drop_first=True)"
      ],
      "metadata": {
        "id": "DipZqY3_HnOh"
      },
      "execution_count": null,
      "outputs": []
    },
    {
      "cell_type": "code",
      "source": [
        "# Step 9: Hyperparameter Optimization for Random Forest\n",
        "param_grid = {\n",
        "    'n_estimators': [50, 100, 200],\n",
        "    'max_depth': [None, 10, 20, 30],\n",
        "    'min_samples_split': [2, 5, 10],\n",
        "    'min_samples_leaf': [1, 2, 4]\n",
        "}\n",
        "rf_model = RandomForestClassifier(random_state=42)\n",
        "grid_search = GridSearchCV(rf_model, param_grid, cv=10, n_jobs=-1, scoring='roc_auc')\n",
        "grid_search.fit(X_train, y_train)"
      ],
      "metadata": {
        "id": "Ol9bxh2gHxaq"
      },
      "execution_count": null,
      "outputs": []
    },
    {
      "cell_type": "code",
      "source": [
        "# Get the best Random Forest model\n",
        "best_rf_model = grid_search.best_estimator_"
      ],
      "metadata": {
        "id": "kKRrCGtMH2q6"
      },
      "execution_count": null,
      "outputs": []
    },
    {
      "cell_type": "code",
      "source": [
        "# Step 10: Model Evaluation\n",
        "\n",
        "y_pred = best_rf_model.predict(X_test)\n",
        "y_proba = best_rf_model.predict_proba(X_test)[:, 1]\n",
        "\n",
        "fpr, tpr, thresholds = roc_curve(y_test, y_proba)\n",
        "roc_auc = auc(fpr, tpr)"
      ],
      "metadata": {
        "id": "3NO5jtHkH-dz"
      },
      "execution_count": null,
      "outputs": []
    },
    {
      "cell_type": "code",
      "source": [
        "# Plot ROC curve\n",
        "plt.figure(figsize=(8, 6))\n",
        "plt.plot(fpr, tpr, color='darkorange', lw=2, label=f'ROC curve (area = {roc_auc:.2f})')\n",
        "plt.plot([0, 1], [0, 1], color='navy', lw=2, linestyle='--')\n",
        "plt.xlim([0.0, 1.0])\n",
        "plt.ylim([0.0, 1.05])\n",
        "plt.xlabel('False Positive Rate')\n",
        "plt.ylabel('True Positive Rate')\n",
        "plt.title('Receiver Operating Characteristic (ROC) Curve')\n",
        "plt.legend(loc='lower right')\n",
        "plt.show()\n",
        "\n",
        "y_pred = best_rf_model.predict(X_test)\n",
        "y_proba = best_rf_model.predict_proba(X_test)[:, 1]\n",
        "\n",
        "confusion = confusion_matrix(y_test, y_pred)\n",
        "sensitivity = confusion[1, 1] / (confusion[1, 0] + confusion[1, 1])\n",
        "specificity = confusion[0, 0] / (confusion[0, 1] + confusion[0, 0])\n",
        "\n",
        "roc_auc = roc_auc_score(y_test, y_proba)\n",
        "print(f\"ROC AUC: {roc_auc}\")\n",
        "\n",
        "class_report = classification_report(y_test, y_pred)\n",
        "print(\"Classification Report:\")\n",
        "print(class_report)\n",
        "\n",
        "print(\"Confusion Matrix:\")\n",
        "print(confusion)\n",
        "\n",
        "print(\"Model Evaluation Metrics:\")\n",
        "print(f\"Accuracy: {accuracy_score(y_test, y_pred)}\")\n",
        "print(f\"Precision: {precision_score(y_test, y_pred)}\")\n",
        "print(f\"Recall: {recall_score(y_test, y_pred)}\")\n",
        "print(f\"F1 Score: {f1_score(y_test, y_pred)}\")\n",
        "print(f\"Sensitivity: {sensitivity}\")\n",
        "print(f\"Specificity: {specificity}\")\n",
        "\n",
        "# Step 11: Serialization (Save the Best Model)\n",
        "joblib.dump(best_rf_model, 'RF_smote_hyperparameteroptimization_VIF_less_than_10.pkl')"
      ],
      "metadata": {
        "id": "xojF8E9XIH5m"
      },
      "execution_count": null,
      "outputs": []
    },
    {
      "cell_type": "code",
      "source": [],
      "metadata": {
        "id": "ocdssLF1H_-S"
      },
      "execution_count": null,
      "outputs": []
    }
  ]
}